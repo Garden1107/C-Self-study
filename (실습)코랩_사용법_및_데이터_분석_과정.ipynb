{
  "nbformat": 4,
  "nbformat_minor": 0,
  "metadata": {
    "colab": {
      "provenance": [],
      "include_colab_link": true
    },
    "kernelspec": {
      "name": "python3",
      "display_name": "Python 3"
    },
    "language_info": {
      "name": "python"
    }
  },
  "cells": [
    {
      "cell_type": "markdown",
      "metadata": {
        "id": "view-in-github",
        "colab_type": "text"
      },
      "source": [
        "<a href=\"https://colab.research.google.com/github/Garden1107/Cpp-Self-study/blob/main/(%EC%8B%A4%EC%8A%B5)%EC%BD%94%EB%9E%A9_%EC%82%AC%EC%9A%A9%EB%B2%95_%EB%B0%8F_%EB%8D%B0%EC%9D%B4%ED%84%B0_%EB%B6%84%EC%84%9D_%EA%B3%BC%EC%A0%95.ipynb\" target=\"_parent\"><img src=\"https://colab.research.google.com/assets/colab-badge.svg\" alt=\"Open In Colab\"/></a>"
      ]
    },
    {
      "cell_type": "markdown",
      "source": [
        "#Colab 사용법 실습 I\n",
        "본 실습에서는 앞으로 학습하게될 데이터 분석의 전반적인 과정과 Colab 사용법을 학습합니다. 지시사항에 따라 순차적으로 진행해주세요."
      ],
      "metadata": {
        "id": "O0Mz9G3hmDoT"
      }
    },
    {
      "cell_type": "markdown",
      "source": [
        "##1.노트이름 변경하기\n",
        "노트의 이름을 **학과/학번/이름.ipynb 로 변경**하세요."
      ],
      "metadata": {
        "id": "6CpeA18I5tmN"
      }
    },
    {
      "cell_type": "markdown",
      "source": [
        "##2.텍스트셀 연습\n",
        "바로 밑에 **[텍스트 셀]**을 삽입하여 다음 텍스트를 입력하세요.\n",
        "- 학과/학번/이름\n",
        "- 한글 깨짐을 위한 라이브러리 설치 및 import\"\n",
        "\n"
      ],
      "metadata": {
        "id": "1738ITuhmDcP"
      }
    },
    {
      "cell_type": "markdown",
      "source": [
        "##3.코드셀 연습\n",
        "바로 밑에 [코드 셀]을 삽입하여 다음 텍스트를 입력한 후 실행(Shift+Enter/Ctrl+Enter/왼쪽의 play 버튼) 하세요.\n",
        "\n",
        "!pip install koreanize-matplotlib\n",
        "\n",
        "import koreanize_matplotlib"
      ],
      "metadata": {
        "id": "LcQOZKJY4d25"
      }
    },
    {
      "cell_type": "code",
      "source": [
        "!pip install koreanize-matplotlib\n",
        "\n",
        "import koreanize_matplotlib"
      ],
      "metadata": {
        "colab": {
          "base_uri": "https://localhost:8080/"
        },
        "id": "KRbqvyWnzv9t",
        "outputId": "1fcb6eca-6c5b-4e32-af34-25350526ecc2"
      },
      "execution_count": null,
      "outputs": [
        {
          "output_type": "stream",
          "name": "stdout",
          "text": [
            "Collecting koreanize-matplotlib\n",
            "  Downloading koreanize_matplotlib-0.1.1-py3-none-any.whl (7.9 MB)\n",
            "\u001b[2K     \u001b[90m━━━━━━━━━━━━━━━━━━━━━━━━━━━━━━━━━━━━━━━━\u001b[0m \u001b[32m7.9/7.9 MB\u001b[0m \u001b[31m50.4 MB/s\u001b[0m eta \u001b[36m0:00:00\u001b[0m\n",
            "\u001b[?25hRequirement already satisfied: matplotlib in /usr/local/lib/python3.10/dist-packages (from koreanize-matplotlib) (3.7.1)\n",
            "Requirement already satisfied: contourpy>=1.0.1 in /usr/local/lib/python3.10/dist-packages (from matplotlib->koreanize-matplotlib) (1.1.0)\n",
            "Requirement already satisfied: cycler>=0.10 in /usr/local/lib/python3.10/dist-packages (from matplotlib->koreanize-matplotlib) (0.11.0)\n",
            "Requirement already satisfied: fonttools>=4.22.0 in /usr/local/lib/python3.10/dist-packages (from matplotlib->koreanize-matplotlib) (4.42.1)\n",
            "Requirement already satisfied: kiwisolver>=1.0.1 in /usr/local/lib/python3.10/dist-packages (from matplotlib->koreanize-matplotlib) (1.4.5)\n",
            "Requirement already satisfied: numpy>=1.20 in /usr/local/lib/python3.10/dist-packages (from matplotlib->koreanize-matplotlib) (1.23.5)\n",
            "Requirement already satisfied: packaging>=20.0 in /usr/local/lib/python3.10/dist-packages (from matplotlib->koreanize-matplotlib) (23.1)\n",
            "Requirement already satisfied: pillow>=6.2.0 in /usr/local/lib/python3.10/dist-packages (from matplotlib->koreanize-matplotlib) (9.4.0)\n",
            "Requirement already satisfied: pyparsing>=2.3.1 in /usr/local/lib/python3.10/dist-packages (from matplotlib->koreanize-matplotlib) (3.1.1)\n",
            "Requirement already satisfied: python-dateutil>=2.7 in /usr/local/lib/python3.10/dist-packages (from matplotlib->koreanize-matplotlib) (2.8.2)\n",
            "Requirement already satisfied: six>=1.5 in /usr/local/lib/python3.10/dist-packages (from python-dateutil>=2.7->matplotlib->koreanize-matplotlib) (1.16.0)\n",
            "Installing collected packages: koreanize-matplotlib\n",
            "Successfully installed koreanize-matplotlib-0.1.1\n"
          ]
        }
      ]
    },
    {
      "cell_type": "markdown",
      "source": [
        "##4.드라이브 마운트하기\n",
        "######1)왼쪽의 폴더 모양을 클릭하세요.\n",
        "######2)드라이브 마운트를 클릭하세요.\n",
        "######3)다음 코드가 보이면 실행하고 Google Drive에 연결을 클릭하고 로그인하세요.\n",
        "######from google.colab import drive\n",
        "######drive.mount('/content/drive')\n",
        "######3)drive/Mydrive/Colab Notebooks 폴더에 **[2주차]** 폴더를 생성하세요.\n",
        "\n",
        "\n",
        "\n",
        "\n",
        "\n",
        "\n"
      ],
      "metadata": {
        "id": "YRwojFit5if2"
      }
    },
    {
      "cell_type": "markdown",
      "source": [
        "##5.공공데이터 파일 업로드하기\n",
        "**[2주차]**폴더에 **\"상도동 아파트 실거래가.xlsx\"화일**을 업로드하세요."
      ],
      "metadata": {
        "id": "YFZS5fnd8KCz"
      }
    },
    {
      "cell_type": "markdown",
      "source": [
        "#데이터 분석 과정 기초 실습 II\n",
        "국토교통부의 실거래 공개시스템에서 제공하는 서울시 동작구 상도동 아파트 거래 내역을 excel 화일로 가져와 데이터가 어떻게 구성되었는지 확인해보자.\n",
        "각 [코드셀]에 [텍스트셀]에 있는 명령어들을 입력하여 실행하세요.\n",
        "##1. 필요한 라이브러리(pandas, matplotlib, seaborn)들 import 하기\n",
        "######import pandas as pd\n",
        "######import matplotlib.pyplot as plt\n",
        "######import seaborn as sns"
      ],
      "metadata": {
        "id": "RTleB_C3NTsk"
      }
    },
    {
      "cell_type": "code",
      "source": [
        "import pandas as pd      #저 함수 pd로 줄여쓸거임.\n",
        "import matplotlib.pyplot as plt   #저 함수 plt로 줄여쓸거임.\n",
        "import seaborn as sns    #저 함수 sns로 줄여쓸거임.\n"
      ],
      "metadata": {
        "id": "e69L56R718i0"
      },
      "execution_count": null,
      "outputs": []
    },
    {
      "cell_type": "code",
      "execution_count": null,
      "metadata": {
        "id": "E9XBS0N9KuR0"
      },
      "outputs": [],
      "source": []
    },
    {
      "cell_type": "markdown",
      "source": [
        "##2. 데이터수집하기(excel 파일 읽어오기)\n",
        "######**'상도동 아파트 실거래가.xlsx'화일**은 **[2주차] 폴더**에 있는 화일을 한번 클릭하여 화일명 오른쪽의 ... 을 클릭한 후 **[경로복사]하여 붙여넣기**(Ctrl+V)하세요\n",
        "######aptData = pd.read_excel('상도동 아파트 실거래가.xlsx')\n",
        "######aptData"
      ],
      "metadata": {
        "id": "XVw764IhOj9x"
      }
    },
    {
      "cell_type": "code",
      "source": [
        "aptData = pd.read_excel('상도동 아파트 실거래가.xlsx')\n",
        "aptData"
      ],
      "metadata": {
        "colab": {
          "base_uri": "https://localhost:8080/",
          "height": 423
        },
        "id": "lyYcVgfE4M_R",
        "outputId": "2ba4c498-edff-43ca-a050-5e79f1ca9f09"
      },
      "execution_count": null,
      "outputs": [
        {
          "output_type": "execute_result",
          "data": {
            "text/plain": [
              "               시군구   번지   본번  부번             단지명      전용면적    계약년월  계약일  \\\n",
              "0    서울특별시 동작구 상도동  903  903   0     e편한세상상도노빌리티   59.7827  202301    7   \n",
              "1    서울특별시 동작구 상도동  903  903   0     e편한세상상도노빌리티   84.9704  202301   11   \n",
              "2    서울특별시 동작구 상도동  903  903   0     e편한세상상도노빌리티   84.9704  202301   18   \n",
              "3    서울특별시 동작구 상도동  903  903   0     e편한세상상도노빌리티   59.7827  202302    8   \n",
              "4    서울특별시 동작구 상도동  903  903   0     e편한세상상도노빌리티   59.7827  202302   24   \n",
              "..             ...  ...  ...  ..             ...       ...     ...  ...   \n",
              "198  서울특별시 동작구 상도동  533  533   0  힐스테이트 상도 프레스티지   84.9510  202303   12   \n",
              "199  서울특별시 동작구 상도동  533  533   0  힐스테이트 상도 프레스티지   84.9510  202303   23   \n",
              "200  서울특별시 동작구 상도동  533  533   0  힐스테이트 상도 프레스티지   84.9510  202304    1   \n",
              "201  서울특별시 동작구 상도동  533  533   0  힐스테이트 상도 프레스티지   84.8840  202306   16   \n",
              "202  서울특별시 동작구 상도동  533  533   0  힐스테이트 상도 프레스티지  120.9360  202306   24   \n",
              "\n",
              "       거래금액   층  건축년도        도로명  거래유형  \n",
              "0    104000  21  2018      만양로 6  중개거래  \n",
              "1    130000  15  2018      만양로 6  중개거래  \n",
              "2    129500   9  2018      만양로 6  중개거래  \n",
              "3    106000  28  2018      만양로 6  중개거래  \n",
              "4    100000   2  2018      만양로 6  중개거래  \n",
              "..      ...  ..   ...        ...   ...  \n",
              "198  109000   4  2013  상도로 346-2  중개거래  \n",
              "199  113000   5  2013  상도로 346-2  중개거래  \n",
              "200  120000   9  2013  상도로 346-2  중개거래  \n",
              "201  125500   6  2013  상도로 346-2  중개거래  \n",
              "202  160000  10  2013  상도로 346-2  중개거래  \n",
              "\n",
              "[203 rows x 13 columns]"
            ],
            "text/html": [
              "\n",
              "  <div id=\"df-9b3be14b-90fd-42df-b12a-24254978bdc3\" class=\"colab-df-container\">\n",
              "    <div>\n",
              "<style scoped>\n",
              "    .dataframe tbody tr th:only-of-type {\n",
              "        vertical-align: middle;\n",
              "    }\n",
              "\n",
              "    .dataframe tbody tr th {\n",
              "        vertical-align: top;\n",
              "    }\n",
              "\n",
              "    .dataframe thead th {\n",
              "        text-align: right;\n",
              "    }\n",
              "</style>\n",
              "<table border=\"1\" class=\"dataframe\">\n",
              "  <thead>\n",
              "    <tr style=\"text-align: right;\">\n",
              "      <th></th>\n",
              "      <th>시군구</th>\n",
              "      <th>번지</th>\n",
              "      <th>본번</th>\n",
              "      <th>부번</th>\n",
              "      <th>단지명</th>\n",
              "      <th>전용면적</th>\n",
              "      <th>계약년월</th>\n",
              "      <th>계약일</th>\n",
              "      <th>거래금액</th>\n",
              "      <th>층</th>\n",
              "      <th>건축년도</th>\n",
              "      <th>도로명</th>\n",
              "      <th>거래유형</th>\n",
              "    </tr>\n",
              "  </thead>\n",
              "  <tbody>\n",
              "    <tr>\n",
              "      <th>0</th>\n",
              "      <td>서울특별시 동작구 상도동</td>\n",
              "      <td>903</td>\n",
              "      <td>903</td>\n",
              "      <td>0</td>\n",
              "      <td>e편한세상상도노빌리티</td>\n",
              "      <td>59.7827</td>\n",
              "      <td>202301</td>\n",
              "      <td>7</td>\n",
              "      <td>104000</td>\n",
              "      <td>21</td>\n",
              "      <td>2018</td>\n",
              "      <td>만양로 6</td>\n",
              "      <td>중개거래</td>\n",
              "    </tr>\n",
              "    <tr>\n",
              "      <th>1</th>\n",
              "      <td>서울특별시 동작구 상도동</td>\n",
              "      <td>903</td>\n",
              "      <td>903</td>\n",
              "      <td>0</td>\n",
              "      <td>e편한세상상도노빌리티</td>\n",
              "      <td>84.9704</td>\n",
              "      <td>202301</td>\n",
              "      <td>11</td>\n",
              "      <td>130000</td>\n",
              "      <td>15</td>\n",
              "      <td>2018</td>\n",
              "      <td>만양로 6</td>\n",
              "      <td>중개거래</td>\n",
              "    </tr>\n",
              "    <tr>\n",
              "      <th>2</th>\n",
              "      <td>서울특별시 동작구 상도동</td>\n",
              "      <td>903</td>\n",
              "      <td>903</td>\n",
              "      <td>0</td>\n",
              "      <td>e편한세상상도노빌리티</td>\n",
              "      <td>84.9704</td>\n",
              "      <td>202301</td>\n",
              "      <td>18</td>\n",
              "      <td>129500</td>\n",
              "      <td>9</td>\n",
              "      <td>2018</td>\n",
              "      <td>만양로 6</td>\n",
              "      <td>중개거래</td>\n",
              "    </tr>\n",
              "    <tr>\n",
              "      <th>3</th>\n",
              "      <td>서울특별시 동작구 상도동</td>\n",
              "      <td>903</td>\n",
              "      <td>903</td>\n",
              "      <td>0</td>\n",
              "      <td>e편한세상상도노빌리티</td>\n",
              "      <td>59.7827</td>\n",
              "      <td>202302</td>\n",
              "      <td>8</td>\n",
              "      <td>106000</td>\n",
              "      <td>28</td>\n",
              "      <td>2018</td>\n",
              "      <td>만양로 6</td>\n",
              "      <td>중개거래</td>\n",
              "    </tr>\n",
              "    <tr>\n",
              "      <th>4</th>\n",
              "      <td>서울특별시 동작구 상도동</td>\n",
              "      <td>903</td>\n",
              "      <td>903</td>\n",
              "      <td>0</td>\n",
              "      <td>e편한세상상도노빌리티</td>\n",
              "      <td>59.7827</td>\n",
              "      <td>202302</td>\n",
              "      <td>24</td>\n",
              "      <td>100000</td>\n",
              "      <td>2</td>\n",
              "      <td>2018</td>\n",
              "      <td>만양로 6</td>\n",
              "      <td>중개거래</td>\n",
              "    </tr>\n",
              "    <tr>\n",
              "      <th>...</th>\n",
              "      <td>...</td>\n",
              "      <td>...</td>\n",
              "      <td>...</td>\n",
              "      <td>...</td>\n",
              "      <td>...</td>\n",
              "      <td>...</td>\n",
              "      <td>...</td>\n",
              "      <td>...</td>\n",
              "      <td>...</td>\n",
              "      <td>...</td>\n",
              "      <td>...</td>\n",
              "      <td>...</td>\n",
              "      <td>...</td>\n",
              "    </tr>\n",
              "    <tr>\n",
              "      <th>198</th>\n",
              "      <td>서울특별시 동작구 상도동</td>\n",
              "      <td>533</td>\n",
              "      <td>533</td>\n",
              "      <td>0</td>\n",
              "      <td>힐스테이트 상도 프레스티지</td>\n",
              "      <td>84.9510</td>\n",
              "      <td>202303</td>\n",
              "      <td>12</td>\n",
              "      <td>109000</td>\n",
              "      <td>4</td>\n",
              "      <td>2013</td>\n",
              "      <td>상도로 346-2</td>\n",
              "      <td>중개거래</td>\n",
              "    </tr>\n",
              "    <tr>\n",
              "      <th>199</th>\n",
              "      <td>서울특별시 동작구 상도동</td>\n",
              "      <td>533</td>\n",
              "      <td>533</td>\n",
              "      <td>0</td>\n",
              "      <td>힐스테이트 상도 프레스티지</td>\n",
              "      <td>84.9510</td>\n",
              "      <td>202303</td>\n",
              "      <td>23</td>\n",
              "      <td>113000</td>\n",
              "      <td>5</td>\n",
              "      <td>2013</td>\n",
              "      <td>상도로 346-2</td>\n",
              "      <td>중개거래</td>\n",
              "    </tr>\n",
              "    <tr>\n",
              "      <th>200</th>\n",
              "      <td>서울특별시 동작구 상도동</td>\n",
              "      <td>533</td>\n",
              "      <td>533</td>\n",
              "      <td>0</td>\n",
              "      <td>힐스테이트 상도 프레스티지</td>\n",
              "      <td>84.9510</td>\n",
              "      <td>202304</td>\n",
              "      <td>1</td>\n",
              "      <td>120000</td>\n",
              "      <td>9</td>\n",
              "      <td>2013</td>\n",
              "      <td>상도로 346-2</td>\n",
              "      <td>중개거래</td>\n",
              "    </tr>\n",
              "    <tr>\n",
              "      <th>201</th>\n",
              "      <td>서울특별시 동작구 상도동</td>\n",
              "      <td>533</td>\n",
              "      <td>533</td>\n",
              "      <td>0</td>\n",
              "      <td>힐스테이트 상도 프레스티지</td>\n",
              "      <td>84.8840</td>\n",
              "      <td>202306</td>\n",
              "      <td>16</td>\n",
              "      <td>125500</td>\n",
              "      <td>6</td>\n",
              "      <td>2013</td>\n",
              "      <td>상도로 346-2</td>\n",
              "      <td>중개거래</td>\n",
              "    </tr>\n",
              "    <tr>\n",
              "      <th>202</th>\n",
              "      <td>서울특별시 동작구 상도동</td>\n",
              "      <td>533</td>\n",
              "      <td>533</td>\n",
              "      <td>0</td>\n",
              "      <td>힐스테이트 상도 프레스티지</td>\n",
              "      <td>120.9360</td>\n",
              "      <td>202306</td>\n",
              "      <td>24</td>\n",
              "      <td>160000</td>\n",
              "      <td>10</td>\n",
              "      <td>2013</td>\n",
              "      <td>상도로 346-2</td>\n",
              "      <td>중개거래</td>\n",
              "    </tr>\n",
              "  </tbody>\n",
              "</table>\n",
              "<p>203 rows × 13 columns</p>\n",
              "</div>\n",
              "    <div class=\"colab-df-buttons\">\n",
              "\n",
              "  <div class=\"colab-df-container\">\n",
              "    <button class=\"colab-df-convert\" onclick=\"convertToInteractive('df-9b3be14b-90fd-42df-b12a-24254978bdc3')\"\n",
              "            title=\"Convert this dataframe to an interactive table.\"\n",
              "            style=\"display:none;\">\n",
              "\n",
              "  <svg xmlns=\"http://www.w3.org/2000/svg\" height=\"24px\" viewBox=\"0 -960 960 960\">\n",
              "    <path d=\"M120-120v-720h720v720H120Zm60-500h600v-160H180v160Zm220 220h160v-160H400v160Zm0 220h160v-160H400v160ZM180-400h160v-160H180v160Zm440 0h160v-160H620v160ZM180-180h160v-160H180v160Zm440 0h160v-160H620v160Z\"/>\n",
              "  </svg>\n",
              "    </button>\n",
              "\n",
              "  <style>\n",
              "    .colab-df-container {\n",
              "      display:flex;\n",
              "      gap: 12px;\n",
              "    }\n",
              "\n",
              "    .colab-df-convert {\n",
              "      background-color: #E8F0FE;\n",
              "      border: none;\n",
              "      border-radius: 50%;\n",
              "      cursor: pointer;\n",
              "      display: none;\n",
              "      fill: #1967D2;\n",
              "      height: 32px;\n",
              "      padding: 0 0 0 0;\n",
              "      width: 32px;\n",
              "    }\n",
              "\n",
              "    .colab-df-convert:hover {\n",
              "      background-color: #E2EBFA;\n",
              "      box-shadow: 0px 1px 2px rgba(60, 64, 67, 0.3), 0px 1px 3px 1px rgba(60, 64, 67, 0.15);\n",
              "      fill: #174EA6;\n",
              "    }\n",
              "\n",
              "    .colab-df-buttons div {\n",
              "      margin-bottom: 4px;\n",
              "    }\n",
              "\n",
              "    [theme=dark] .colab-df-convert {\n",
              "      background-color: #3B4455;\n",
              "      fill: #D2E3FC;\n",
              "    }\n",
              "\n",
              "    [theme=dark] .colab-df-convert:hover {\n",
              "      background-color: #434B5C;\n",
              "      box-shadow: 0px 1px 3px 1px rgba(0, 0, 0, 0.15);\n",
              "      filter: drop-shadow(0px 1px 2px rgba(0, 0, 0, 0.3));\n",
              "      fill: #FFFFFF;\n",
              "    }\n",
              "  </style>\n",
              "\n",
              "    <script>\n",
              "      const buttonEl =\n",
              "        document.querySelector('#df-9b3be14b-90fd-42df-b12a-24254978bdc3 button.colab-df-convert');\n",
              "      buttonEl.style.display =\n",
              "        google.colab.kernel.accessAllowed ? 'block' : 'none';\n",
              "\n",
              "      async function convertToInteractive(key) {\n",
              "        const element = document.querySelector('#df-9b3be14b-90fd-42df-b12a-24254978bdc3');\n",
              "        const dataTable =\n",
              "          await google.colab.kernel.invokeFunction('convertToInteractive',\n",
              "                                                    [key], {});\n",
              "        if (!dataTable) return;\n",
              "\n",
              "        const docLinkHtml = 'Like what you see? Visit the ' +\n",
              "          '<a target=\"_blank\" href=https://colab.research.google.com/notebooks/data_table.ipynb>data table notebook</a>'\n",
              "          + ' to learn more about interactive tables.';\n",
              "        element.innerHTML = '';\n",
              "        dataTable['output_type'] = 'display_data';\n",
              "        await google.colab.output.renderOutput(dataTable, element);\n",
              "        const docLink = document.createElement('div');\n",
              "        docLink.innerHTML = docLinkHtml;\n",
              "        element.appendChild(docLink);\n",
              "      }\n",
              "    </script>\n",
              "  </div>\n",
              "\n",
              "\n",
              "<div id=\"df-92bb8c68-4163-4db4-a1ef-baf41c9ec7e1\">\n",
              "  <button class=\"colab-df-quickchart\" onclick=\"quickchart('df-92bb8c68-4163-4db4-a1ef-baf41c9ec7e1')\"\n",
              "            title=\"Suggest charts.\"\n",
              "            style=\"display:none;\">\n",
              "\n",
              "<svg xmlns=\"http://www.w3.org/2000/svg\" height=\"24px\"viewBox=\"0 0 24 24\"\n",
              "     width=\"24px\">\n",
              "    <g>\n",
              "        <path d=\"M19 3H5c-1.1 0-2 .9-2 2v14c0 1.1.9 2 2 2h14c1.1 0 2-.9 2-2V5c0-1.1-.9-2-2-2zM9 17H7v-7h2v7zm4 0h-2V7h2v10zm4 0h-2v-4h2v4z\"/>\n",
              "    </g>\n",
              "</svg>\n",
              "  </button>\n",
              "\n",
              "<style>\n",
              "  .colab-df-quickchart {\n",
              "      --bg-color: #E8F0FE;\n",
              "      --fill-color: #1967D2;\n",
              "      --hover-bg-color: #E2EBFA;\n",
              "      --hover-fill-color: #174EA6;\n",
              "      --disabled-fill-color: #AAA;\n",
              "      --disabled-bg-color: #DDD;\n",
              "  }\n",
              "\n",
              "  [theme=dark] .colab-df-quickchart {\n",
              "      --bg-color: #3B4455;\n",
              "      --fill-color: #D2E3FC;\n",
              "      --hover-bg-color: #434B5C;\n",
              "      --hover-fill-color: #FFFFFF;\n",
              "      --disabled-bg-color: #3B4455;\n",
              "      --disabled-fill-color: #666;\n",
              "  }\n",
              "\n",
              "  .colab-df-quickchart {\n",
              "    background-color: var(--bg-color);\n",
              "    border: none;\n",
              "    border-radius: 50%;\n",
              "    cursor: pointer;\n",
              "    display: none;\n",
              "    fill: var(--fill-color);\n",
              "    height: 32px;\n",
              "    padding: 0;\n",
              "    width: 32px;\n",
              "  }\n",
              "\n",
              "  .colab-df-quickchart:hover {\n",
              "    background-color: var(--hover-bg-color);\n",
              "    box-shadow: 0 1px 2px rgba(60, 64, 67, 0.3), 0 1px 3px 1px rgba(60, 64, 67, 0.15);\n",
              "    fill: var(--button-hover-fill-color);\n",
              "  }\n",
              "\n",
              "  .colab-df-quickchart-complete:disabled,\n",
              "  .colab-df-quickchart-complete:disabled:hover {\n",
              "    background-color: var(--disabled-bg-color);\n",
              "    fill: var(--disabled-fill-color);\n",
              "    box-shadow: none;\n",
              "  }\n",
              "\n",
              "  .colab-df-spinner {\n",
              "    border: 2px solid var(--fill-color);\n",
              "    border-color: transparent;\n",
              "    border-bottom-color: var(--fill-color);\n",
              "    animation:\n",
              "      spin 1s steps(1) infinite;\n",
              "  }\n",
              "\n",
              "  @keyframes spin {\n",
              "    0% {\n",
              "      border-color: transparent;\n",
              "      border-bottom-color: var(--fill-color);\n",
              "      border-left-color: var(--fill-color);\n",
              "    }\n",
              "    20% {\n",
              "      border-color: transparent;\n",
              "      border-left-color: var(--fill-color);\n",
              "      border-top-color: var(--fill-color);\n",
              "    }\n",
              "    30% {\n",
              "      border-color: transparent;\n",
              "      border-left-color: var(--fill-color);\n",
              "      border-top-color: var(--fill-color);\n",
              "      border-right-color: var(--fill-color);\n",
              "    }\n",
              "    40% {\n",
              "      border-color: transparent;\n",
              "      border-right-color: var(--fill-color);\n",
              "      border-top-color: var(--fill-color);\n",
              "    }\n",
              "    60% {\n",
              "      border-color: transparent;\n",
              "      border-right-color: var(--fill-color);\n",
              "    }\n",
              "    80% {\n",
              "      border-color: transparent;\n",
              "      border-right-color: var(--fill-color);\n",
              "      border-bottom-color: var(--fill-color);\n",
              "    }\n",
              "    90% {\n",
              "      border-color: transparent;\n",
              "      border-bottom-color: var(--fill-color);\n",
              "    }\n",
              "  }\n",
              "</style>\n",
              "\n",
              "  <script>\n",
              "    async function quickchart(key) {\n",
              "      const quickchartButtonEl =\n",
              "        document.querySelector('#' + key + ' button');\n",
              "      quickchartButtonEl.disabled = true;  // To prevent multiple clicks.\n",
              "      quickchartButtonEl.classList.add('colab-df-spinner');\n",
              "      try {\n",
              "        const charts = await google.colab.kernel.invokeFunction(\n",
              "            'suggestCharts', [key], {});\n",
              "      } catch (error) {\n",
              "        console.error('Error during call to suggestCharts:', error);\n",
              "      }\n",
              "      quickchartButtonEl.classList.remove('colab-df-spinner');\n",
              "      quickchartButtonEl.classList.add('colab-df-quickchart-complete');\n",
              "    }\n",
              "    (() => {\n",
              "      let quickchartButtonEl =\n",
              "        document.querySelector('#df-92bb8c68-4163-4db4-a1ef-baf41c9ec7e1 button');\n",
              "      quickchartButtonEl.style.display =\n",
              "        google.colab.kernel.accessAllowed ? 'block' : 'none';\n",
              "    })();\n",
              "  </script>\n",
              "</div>\n",
              "    </div>\n",
              "  </div>\n"
            ]
          },
          "metadata": {},
          "execution_count": 3
        }
      ]
    },
    {
      "cell_type": "code",
      "source": [],
      "metadata": {
        "id": "2Fa586_8OJpr"
      },
      "execution_count": null,
      "outputs": []
    },
    {
      "cell_type": "markdown",
      "source": [
        "##3. 데이터 구성 확인하기\n",
        "aptData.info()"
      ],
      "metadata": {
        "id": "pxJjDO4ZPIAM"
      }
    },
    {
      "cell_type": "code",
      "source": [
        "aptData.info()"
      ],
      "metadata": {
        "colab": {
          "base_uri": "https://localhost:8080/"
        },
        "id": "ivaIp2SD4yuc",
        "outputId": "936e15e8-1cbc-45cc-e149-b39fdce5af1a"
      },
      "execution_count": null,
      "outputs": [
        {
          "output_type": "stream",
          "name": "stdout",
          "text": [
            "<class 'pandas.core.frame.DataFrame'>\n",
            "RangeIndex: 203 entries, 0 to 202\n",
            "Data columns (total 13 columns):\n",
            " #   Column  Non-Null Count  Dtype  \n",
            "---  ------  --------------  -----  \n",
            " 0   시군구     203 non-null    object \n",
            " 1   번지      203 non-null    object \n",
            " 2   본번      203 non-null    int64  \n",
            " 3   부번      203 non-null    int64  \n",
            " 4   단지명     203 non-null    object \n",
            " 5   전용면적    203 non-null    float64\n",
            " 6   계약년월    203 non-null    int64  \n",
            " 7   계약일     203 non-null    int64  \n",
            " 8   거래금액    203 non-null    int64  \n",
            " 9   층       203 non-null    int64  \n",
            " 10  건축년도    203 non-null    int64  \n",
            " 11  도로명     203 non-null    object \n",
            " 12  거래유형    203 non-null    object \n",
            "dtypes: float64(1), int64(7), object(5)\n",
            "memory usage: 20.7+ KB\n"
          ]
        }
      ]
    },
    {
      "cell_type": "code",
      "source": [],
      "metadata": {
        "id": "rrmSBKEdPD89"
      },
      "execution_count": null,
      "outputs": []
    },
    {
      "cell_type": "markdown",
      "source": [
        "##4. 공공데이터 시각화하기\n",
        "(1)전용면적에 따른 거래금액의 분포를 시각화하시오.\n",
        "\n",
        "sns.relplot(data=aptData, x='전용면적', y='거래금액');"
      ],
      "metadata": {
        "id": "UUetyt53P0BE"
      }
    },
    {
      "cell_type": "code",
      "source": [
        "sns.relplot(data=aptData, x='전용면적', y='거래금액');"
      ],
      "metadata": {
        "id": "4gkdLDh6PRpJ",
        "colab": {
          "base_uri": "https://localhost:8080/",
          "height": 507
        },
        "outputId": "d3354aa0-b3db-43fa-9e19-7fff6b876ded"
      },
      "execution_count": null,
      "outputs": [
        {
          "output_type": "display_data",
          "data": {
            "text/plain": [
              "<Figure size 500x500 with 1 Axes>"
            ],
            "image/png": "[encoded data removed]"
          },
          "metadata": {}
        }
      ]
    },
    {
      "cell_type": "markdown",
      "source": [
        "(2)건축년도에 따른 거래금액의 분포를 시각화하시오.\n",
        "\n",
        "sns.relplot(data=aptData, x='건축년도', y='거래금액');"
      ],
      "metadata": {
        "id": "m-6BnM2jRh5A"
      }
    },
    {
      "cell_type": "code",
      "source": [
        "sns.relplot(data=aptData, x='건축년도', y='거래금액');"
      ],
      "metadata": {
        "id": "xkO3thvNQtKz",
        "colab": {
          "base_uri": "https://localhost:8080/",
          "height": 507
        },
        "outputId": "59a09dba-a456-4740-bac5-69ff7d6d57cc"
      },
      "execution_count": null,
      "outputs": [
        {
          "output_type": "display_data",
          "data": {
            "text/plain": [
              "<Figure size 500x500 with 1 Axes>"
            ],
            "image/png": "[encoded data removed]"
          },
          "metadata": {}
        }
      ]
    },
    {
      "cell_type": "markdown",
      "source": [
        "(3)건축년도에 따른 거래금액의 분포를 층수별로 시각화하시오.\n",
        "\n",
        "sns.relplot(data=aptData, x='건축년도', y='거래금액', hue='층');"
      ],
      "metadata": {
        "id": "5Wun7tQNR2ir"
      }
    },
    {
      "cell_type": "code",
      "source": [
        "sns.relplot(data=aptData, x='건축년도', y='거래금액', hue='층');"
      ],
      "metadata": {
        "id": "0fjyvIY2Rv5a",
        "colab": {
          "base_uri": "https://localhost:8080/",
          "height": 507
        },
        "outputId": "c8004f19-fab9-4bab-d8e7-54fbba4aba94"
      },
      "execution_count": null,
      "outputs": [
        {
          "output_type": "display_data",
          "data": {
            "text/plain": [
              "<Figure size 566.875x500 with 1 Axes>"
            ],
            "image/png": "[encoded data removed]"
          },
          "metadata": {}
        }
      ]
    },
    {
      "cell_type": "markdown",
      "source": [
        "##Colab 사용법 실습 III\n",
        "#####(1)출력결과 모두 삭제하기 : [수정]메뉴->[모든출력지우기] 클릭\n",
        "#####(2)모두 실행하기 : [런타임]메뉴->[모두 실행]클릭\n",
        "#####(3)*.ipynb 화일 다른이름으로 저장 : [파일]메뉴 ->[드라이브에 사본저장]클릭\n",
        "#####(4)*.ipynb 다운로드 : [파일]메뉴 ->[다운로드]클릭"
      ],
      "metadata": {
        "id": "lLzW5spl_o0l"
      }
    }
  ]
}